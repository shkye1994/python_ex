{
 "cells": [
  {
   "cell_type": "markdown",
   "metadata": {
    "school_cell_uuid": "3f982c42a05543b1be7df7e511be3246"
   },
   "source": [
    "# 난수 발생과 카운팅"
   ]
  },
  {
   "cell_type": "markdown",
   "metadata": {
    "school_cell_uuid": "daedb1a1432d41039d738327d92dc9f6"
   },
   "source": [
    "파이썬을 이용하여 데이터를 무작위로 섞거나 임의의 수 즉, 난수(random number)를 발생시키는 방법에 대해 알아본다. 이 기능은 주로 NumPy의 random 서브패키지에서 제공한다."
   ]
  },
  {
   "cell_type": "markdown",
   "metadata": {
    "school_cell_uuid": "4388755335d6472f94fbf2e56cb892e4"
   },
   "source": [
    "## 시드 설정하기"
   ]
  },
  {
   "cell_type": "markdown",
   "metadata": {
    "school_cell_uuid": "155352cb8ec04206a8889926b61ba967"
   },
   "source": [
    "컴퓨터 프로그램에서 발생하는 무작위 수는 사실 엄격한 의미의 무작위 수가 아니다. 어떤 특정한 시작 숫자를 정해 주면 컴퓨터가 정해진 알고리즘에 의해 마치 난수처럼 보이는 수열을 생성한다. 이런 시작 숫자를 시드(seed)라고 한다. 일단 생성된 난수는 다음번 난수 생성을 위한 시드값이 된다. 따라서 시드값은 한 번만 정해주면 된다. 시드는 보통 현재 시각등을 이용하여 자동으로 정해지지만 사람이 수동으로 설정할 수도 있다. 특정한 시드값이 사용되면 그 다음에 만들어지는 난수들은 모두 예측할 수 있다. 이 책에서는 코드의 결과를 재현하기 위해 항상 시드를 설정한다."
   ]
  },
  {
   "cell_type": "markdown",
   "metadata": {
    "school_cell_uuid": "bb61a3f27f534e80b893e93e2b9af486"
   },
   "source": [
    "파이썬에서 시드를 설정하는 명령은 `seed`이다. 인수로는 0과 같거나 큰 정수를 넣어준다."
   ]
  },
  {
   "cell_type": "code",
   "execution_count": 1,
   "metadata": {
    "collapsed": true
   },
   "outputs": [],
   "source": [
    "import numpy as np"
   ]
  },
  {
   "cell_type": "code",
   "execution_count": 2,
   "metadata": {
    "collapsed": true,
    "school_cell_uuid": "4f8d6524f35f424286b4a4d611142313"
   },
   "outputs": [],
   "source": [
    "np.random.seed(0)"
   ]
  },
  {
   "cell_type": "markdown",
   "metadata": {
    "school_cell_uuid": "290b77b6d1ad42b4932e4095c2430ac2"
   },
   "source": [
    "이렇게 시드를 설정한 후 `rand` 명령으로 5개의 난수를 생성해 보자. 다른 난수 관련 명령어를 실행하지 말고 바로 다음 명령을 실행해야 한다. `rand` 명령은 0과 1사이의 난수를 발생시키는 명령으로 인수로 받은 숫자 횟수만큼 난수를 발생시킨다."
   ]
  },
  {
   "cell_type": "code",
   "execution_count": 3,
   "metadata": {
    "school_cell_uuid": "7574e2342e8c4714bae82668a692ca2a",
    "scrolled": true
   },
   "outputs": [
    {
     "data": {
      "text/plain": [
       "array([ 0.5488135 ,  0.71518937,  0.60276338,  0.54488318,  0.4236548 ])"
      ]
     },
     "execution_count": 3,
     "metadata": {},
     "output_type": "execute_result"
    }
   ],
   "source": [
    "np.random.rand(5)"
   ]
  },
  {
   "cell_type": "markdown",
   "metadata": {
    "school_cell_uuid": "caa5d231bd9d4368ace5b70129add1bc"
   },
   "source": [
    "몇번 더 난수를 생성해보자. 사람이 예측할 수 없는 무작위 숫자가 나오는 것을 볼 수 있다."
   ]
  },
  {
   "cell_type": "code",
   "execution_count": 4,
   "metadata": {
    "school_cell_uuid": "de1a522ed5324507bfd2b75d3fa5d452"
   },
   "outputs": [
    {
     "data": {
      "text/plain": [
       "array([ 0.64589411,  0.43758721,  0.891773  ,  0.96366276,  0.38344152,\n",
       "        0.79172504,  0.52889492,  0.56804456,  0.92559664,  0.07103606])"
      ]
     },
     "execution_count": 4,
     "metadata": {},
     "output_type": "execute_result"
    }
   ],
   "source": [
    "np.random.rand(10)"
   ]
  },
  {
   "cell_type": "code",
   "execution_count": 5,
   "metadata": {
    "school_cell_uuid": "90f02a6ba6f4486b8330bd77b5974144"
   },
   "outputs": [
    {
     "data": {
      "text/plain": [
       "array([ 0.0871293 ,  0.0202184 ,  0.83261985,  0.77815675,  0.87001215,\n",
       "        0.97861834,  0.79915856,  0.46147936,  0.78052918,  0.11827443])"
      ]
     },
     "execution_count": 5,
     "metadata": {},
     "output_type": "execute_result"
    }
   ],
   "source": [
    "np.random.rand(10)"
   ]
  },
  {
   "cell_type": "markdown",
   "metadata": {
    "school_cell_uuid": "dec6532c35064e7bbd7f02375ef8d824"
   },
   "source": [
    "이제 시드를 0으로 재설정하고 다시 난수를 발생시켜 본다."
   ]
  },
  {
   "cell_type": "code",
   "execution_count": 6,
   "metadata": {
    "collapsed": true,
    "school_cell_uuid": "b8faa78bf7054d7784192bd816e093d2"
   },
   "outputs": [],
   "source": [
    "np.random.seed(0)"
   ]
  },
  {
   "cell_type": "code",
   "execution_count": 7,
   "metadata": {
    "school_cell_uuid": "bf4ee192cd644ddfab2ac2d8ca287d70",
    "scrolled": true
   },
   "outputs": [
    {
     "data": {
      "text/plain": [
       "array([ 0.5488135 ,  0.71518937,  0.60276338,  0.54488318,  0.4236548 ])"
      ]
     },
     "execution_count": 7,
     "metadata": {},
     "output_type": "execute_result"
    }
   ],
   "source": [
    "np.random.rand(5)"
   ]
  },
  {
   "cell_type": "code",
   "execution_count": 7,
   "metadata": {
    "school_cell_uuid": "8c518b19a3fa4346b941418270153beb",
    "scrolled": true
   },
   "outputs": [
    {
     "data": {
      "text/plain": [
       "array([ 0.64589411,  0.43758721,  0.891773  ,  0.96366276,  0.38344152,\n",
       "        0.79172504,  0.52889492,  0.56804456,  0.92559664,  0.07103606])"
      ]
     },
     "execution_count": 7,
     "metadata": {},
     "output_type": "execute_result"
    }
   ],
   "source": [
    "np.random.rand(10)"
   ]
  },
  {
   "cell_type": "code",
   "execution_count": 8,
   "metadata": {
    "school_cell_uuid": "f0fe2a52f387440dbe13818a057041b3",
    "scrolled": true
   },
   "outputs": [
    {
     "data": {
      "text/plain": [
       "array([ 0.0871293 ,  0.0202184 ,  0.83261985,  0.77815675,  0.87001215,\n",
       "        0.97861834,  0.79915856,  0.46147936,  0.78052918,  0.11827443])"
      ]
     },
     "execution_count": 8,
     "metadata": {},
     "output_type": "execute_result"
    }
   ],
   "source": [
    "np.random.rand(10)"
   ]
  },
  {
   "cell_type": "markdown",
   "metadata": {
    "school_cell_uuid": "f19108f4f2be4fb5a1d06ffae539452c"
   },
   "source": [
    "아까와 같은 숫자가 나오는 것을 확인할 수 있다."
   ]
  },
  {
   "cell_type": "markdown",
   "metadata": {
    "school_cell_uuid": "5636e99b86c740bf9735ac9f4638b43a"
   },
   "source": [
    "## 데이터의 순서 바꾸기"
   ]
  },
  {
   "cell_type": "markdown",
   "metadata": {
    "school_cell_uuid": "1174c7b0b0fb4bfaa6354cc729b63825"
   },
   "source": [
    "데이터의 순서를 바꾸려면 `shuffle` 명령을 사용한다."
   ]
  },
  {
   "cell_type": "code",
   "execution_count": 8,
   "metadata": {
    "school_cell_uuid": "54337809fac54417b262a402cc043c83"
   },
   "outputs": [
    {
     "data": {
      "text/plain": [
       "array([0, 1, 2, 3, 4, 5, 6, 7, 8, 9])"
      ]
     },
     "execution_count": 8,
     "metadata": {},
     "output_type": "execute_result"
    }
   ],
   "source": [
    "x = np.arange(10)\n",
    "x"
   ]
  },
  {
   "cell_type": "code",
   "execution_count": 9,
   "metadata": {
    "school_cell_uuid": "e43809a5526b45ba866738aeec1a3181"
   },
   "outputs": [
    {
     "data": {
      "text/plain": [
       "array([3, 1, 8, 7, 9, 0, 6, 4, 2, 5])"
      ]
     },
     "execution_count": 9,
     "metadata": {},
     "output_type": "execute_result"
    }
   ],
   "source": [
    "np.random.shuffle(x)\n",
    "x"
   ]
  },
  {
   "cell_type": "markdown",
   "metadata": {
    "school_cell_uuid": "e33873a7680b4db3a82adcf7ff230521"
   },
   "source": [
    "## 데이터 샘플링"
   ]
  },
  {
   "cell_type": "markdown",
   "metadata": {
    "school_cell_uuid": "598c5aefaa0b45518c95e9c86b238d7d"
   },
   "source": [
    "이미 있는 데이터 집합에서 일부를 무작위로 선택하는 것을 샘플링(sampling)이라고 한다. 샘플링에는 `choice` 명령을 사용한다. `choice` 명령은 다음과 같은 인수를 가질 수 있다.\n",
    "\n",
    "\n",
    "`numpy.random.choice(a, size=None, replace=True, p=None)`\n",
    "\n",
    "* a : 배열이면 원래의 데이터, 정수이면 range(a) 명령으로 데이터 생성\n",
    "* size : 정수. 샘플 숫자\n",
    "* replace : 불리언. True이면 한번 선택한 데이터를 다시 선택 가능\n",
    "* p : 배열. 각 데이터가 선택될 수 있는 확률\n"
   ]
  },
  {
   "cell_type": "code",
   "execution_count": 14,
   "metadata": {
    "school_cell_uuid": "195092f9d0c64f86a52e249c7128f660"
   },
   "outputs": [
    {
     "data": {
      "text/plain": [
       "array([4, 2, 3, 1, 0])"
      ]
     },
     "execution_count": 14,
     "metadata": {},
     "output_type": "execute_result"
    }
   ],
   "source": [
    "np.random.choice(5, 5, replace=False)  # shuffle 명령과 같다."
   ]
  },
  {
   "cell_type": "code",
   "execution_count": 15,
   "metadata": {
    "school_cell_uuid": "3c8979fa989540edb94ffab310dab17f"
   },
   "outputs": [
    {
     "data": {
      "text/plain": [
       "array([2, 3, 4])"
      ]
     },
     "execution_count": 15,
     "metadata": {},
     "output_type": "execute_result"
    }
   ],
   "source": [
    "np.random.choice(5, 3, replace=False)  # 3개만 선택"
   ]
  },
  {
   "cell_type": "code",
   "execution_count": 16,
   "metadata": {
    "school_cell_uuid": "f5c65dcb449942d8be803c160d0844fd"
   },
   "outputs": [
    {
     "data": {
      "text/plain": [
       "array([0, 3, 0, 2, 3, 0, 1, 3, 3, 3])"
      ]
     },
     "execution_count": 16,
     "metadata": {},
     "output_type": "execute_result"
    }
   ],
   "source": [
    "np.random.choice(5, 10) # 반복해서 10개 선택"
   ]
  },
  {
   "cell_type": "code",
   "execution_count": 17,
   "metadata": {
    "school_cell_uuid": "589fc9ada99f408eaf3d98e6ba35bd50"
   },
   "outputs": [
    {
     "data": {
      "text/plain": [
       "array([2, 3, 2, 3, 3, 3, 2, 3, 3, 3], dtype=int64)"
      ]
     },
     "execution_count": 17,
     "metadata": {},
     "output_type": "execute_result"
    }
   ],
   "source": [
    "np.random.choice(5, 10, p=[0.1, 0, 0.3, 0.6, 0])  # 선택 확률을 다르게 해서 10개 선택"
   ]
  },
  {
   "cell_type": "markdown",
   "metadata": {
    "school_cell_uuid": "44ca88ce88f247eea71d8170c98ab17f"
   },
   "source": [
    "## 난수 생성"
   ]
  },
  {
   "cell_type": "markdown",
   "metadata": {
    "school_cell_uuid": "0fbfd061953b4601ba42d4140e92bdba"
   },
   "source": [
    "NumPy의 random 서브패키지에는 난수를 생성하는 다양한 명령을 제공한다. 그 중 가장 간단하고 많이 사용되는 것은 다음 3가지 명령이다.\n",
    "\n",
    "* `rand`: 0부터 1사이의 균일 분포 \n",
    "* `randn`: 가우시안 표준 정규 분포\n",
    "* `randint`: 균일 분포의 정수 난수"
   ]
  },
  {
   "cell_type": "markdown",
   "metadata": {
    "school_cell_uuid": "e96902fa552f4ec1819075e81184b812"
   },
   "source": [
    "`rand` 명령은 0부터 1사이에서 균일한 확률 분포로 실수 난수를 생성한다. 숫자 인수는 생성할 난수의 크기이다. 여러개의 인수를 넣으면 해당 크기를 가진 행렬을 생성한다."
   ]
  },
  {
   "cell_type": "code",
   "execution_count": 18,
   "metadata": {
    "school_cell_uuid": "edaa191590d4424c991a4cd50ed92578"
   },
   "outputs": [
    {
     "data": {
      "text/plain": [
       "array([ 0.0187898 ,  0.6176355 ,  0.61209572,  0.616934  ,  0.94374808,\n",
       "        0.6818203 ,  0.3595079 ,  0.43703195,  0.6976312 ,  0.06022547])"
      ]
     },
     "execution_count": 18,
     "metadata": {},
     "output_type": "execute_result"
    }
   ],
   "source": [
    "np.random.rand(10)"
   ]
  },
  {
   "cell_type": "code",
   "execution_count": 19,
   "metadata": {
    "school_cell_uuid": "257e6d1f19b44fdab7e7f786f2bf2d1f"
   },
   "outputs": [
    {
     "data": {
      "text/plain": [
       "array([[ 0.66676672,  0.67063787,  0.21038256,  0.1289263 ,  0.31542835],\n",
       "       [ 0.36371077,  0.57019677,  0.43860151,  0.98837384,  0.10204481],\n",
       "       [ 0.20887676,  0.16130952,  0.65310833,  0.2532916 ,  0.46631077]])"
      ]
     },
     "execution_count": 19,
     "metadata": {},
     "output_type": "execute_result"
    }
   ],
   "source": [
    "np.random.rand(3, 5)"
   ]
  },
  {
   "cell_type": "markdown",
   "metadata": {
    "school_cell_uuid": "f02d488571cb453c8970b5b53ff29cb2"
   },
   "source": [
    "`randn` 명령은 기댓값이 0이고 표준편차가 1인 가우시안 표준 정규 분포를 따르는 난수를 생성한다. 인수 사용법은 `rand` 명령과 같다."
   ]
  },
  {
   "cell_type": "code",
   "execution_count": 20,
   "metadata": {
    "school_cell_uuid": "b393b3254efe47d59c0fa9f2b59b9904"
   },
   "outputs": [
    {
     "data": {
      "text/plain": [
       "array([-0.63972264, -0.4794198 ,  0.3113635 , -0.77602047, -0.30736481,\n",
       "       -0.36652394,  1.11971196, -0.45792242,  0.4253934 , -0.02797118])"
      ]
     },
     "execution_count": 20,
     "metadata": {},
     "output_type": "execute_result"
    }
   ],
   "source": [
    "np.random.randn(10)"
   ]
  },
  {
   "cell_type": "code",
   "execution_count": 21,
   "metadata": {
    "school_cell_uuid": "adee3d18094e4f33b0d7a8f32a030154"
   },
   "outputs": [
    {
     "data": {
      "text/plain": [
       "array([[ 1.47598983,  0.6467801 , -0.36433431, -0.67877739, -0.35362786],\n",
       "       [-0.74074747, -0.67502183, -0.13278426,  0.61980106,  1.79116846],\n",
       "       [ 0.17100044, -1.72567135,  0.16065854, -0.85898532, -0.20642094]])"
      ]
     },
     "execution_count": 21,
     "metadata": {},
     "output_type": "execute_result"
    }
   ],
   "source": [
    "np.random.randn(3, 5)"
   ]
  },
  {
   "cell_type": "markdown",
   "metadata": {
    "school_cell_uuid": "3ed798c061fc49588e1a07699c648c81"
   },
   "source": [
    "`randint` 명령은 다음과 같은 인수를 가진다.\n",
    "\n",
    "`numpy.random.randint(low, high=None, size=None)`\n",
    "\n",
    "만약 `high`를 입력하지 않으면 0과 `low`사이의 숫자를, `high`를 입력하면 `low`와 `high`는 사이의 숫자를 출력한다. `size`는 난수의 숫자이다."
   ]
  },
  {
   "cell_type": "code",
   "execution_count": 30,
   "metadata": {
    "school_cell_uuid": "89d766b0dad34a1e9efd1f632ae501b9"
   },
   "outputs": [
    {
     "data": {
      "text/plain": [
       "array([2, 7, 2, 7, 0, 1, 8, 0, 5, 2, 8, 0, 4, 0, 3, 8, 1, 6, 4, 6, 9, 6, 4,\n",
       "       7, 2, 9, 8, 0, 8, 6, 2, 6, 9, 5, 3, 7, 8, 3, 8, 8, 9, 9, 4, 4, 1, 0,\n",
       "       7, 6, 2, 1, 0, 6, 1, 6, 7, 1, 5, 2, 0, 2, 6, 6, 3, 5, 4, 7, 3, 2, 6,\n",
       "       9])"
      ]
     },
     "execution_count": 30,
     "metadata": {},
     "output_type": "execute_result"
    }
   ],
   "source": [
    "np.random.randint(10, size=10) # 0~9사이 정수 10개"
   ]
  },
  {
   "cell_type": "code",
   "execution_count": 23,
   "metadata": {
    "school_cell_uuid": "8300e6038dca4666a922d0b9ef18c5b2"
   },
   "outputs": [
    {
     "data": {
      "text/plain": [
       "array([18, 18, 12, 13, 12, 10, 18, 18, 13, 18])"
      ]
     },
     "execution_count": 23,
     "metadata": {},
     "output_type": "execute_result"
    }
   ],
   "source": [
    "np.random.randint(10, 20, size=10) # 10~19 사이 정수 10개"
   ]
  },
  {
   "cell_type": "code",
   "execution_count": 31,
   "metadata": {
    "school_cell_uuid": "683d2572fa3d4dd6959e25dbd40cec1c"
   },
   "outputs": [
    {
     "data": {
      "text/plain": [
       "array([[11, 15, 11, 19, 13],\n",
       "       [11, 10, 17, 13, 19],\n",
       "       [16, 14, 14, 13, 15]])"
      ]
     },
     "execution_count": 31,
     "metadata": {},
     "output_type": "execute_result"
    }
   ],
   "source": [
    "np.random.randint(10, 20, size=(3,5)) # 10~19사이 정수 3x5 행렬"
   ]
  },
  {
   "cell_type": "markdown",
   "metadata": {
    "school_cell_uuid": "6d80567ed2a9472a867cf1d2bbccfb6f"
   },
   "source": [
    "## 정수 데이터 카운팅"
   ]
  },
  {
   "cell_type": "markdown",
   "metadata": {
    "school_cell_uuid": "05b6fc5e9d514f3fa4f1927eea6dc44e"
   },
   "source": [
    "이렇게 발생시킨 난수가 실수값이면 히스토그램 등을 사용하여 분석하면 된다. 히스토그램을 시각화 부분에서 나중에 자세히 설명한다.\n",
    "\n",
    "만약 난수가 정수값이면 `unique` 명령이나 `bincount` 명령으로 데이터 값을 분석할 수 있다. 이 명렬들은 random 서브패키지가 아니라 NumPy 바로 아래에 포함된 명령이다."
   ]
  },
  {
   "cell_type": "markdown",
   "metadata": {
    "school_cell_uuid": "207d493df5064b45af5eac70e2332e40"
   },
   "source": [
    "`unique` 명령은 데이터에서 중복된 값을 제거하고 중복되지 않는 값의 리스트를 출력한다. `return_counts` 인수를 True 로 설정하면 각 값을 가진 데이터 갯수도 출력한다."
   ]
  },
  {
   "cell_type": "code",
   "execution_count": 32,
   "metadata": {
    "school_cell_uuid": "e7448ae7264c49e8ac97ad96e40f3cab"
   },
   "outputs": [
    {
     "data": {
      "text/plain": [
       "array([ 2, 11, 34])"
      ]
     },
     "execution_count": 32,
     "metadata": {},
     "output_type": "execute_result"
    }
   ],
   "source": [
    "np.unique([11, 11, 2, 2, 34, 34])"
   ]
  },
  {
   "cell_type": "code",
   "execution_count": 33,
   "metadata": {
    "collapsed": true,
    "school_cell_uuid": "79c2907103b14088a59fdf122e3dab67"
   },
   "outputs": [],
   "source": [
    "a = np.array(['a', 'b', 'b', 'c', 'a'])\n",
    "index, count = np.unique(a, return_counts=True)"
   ]
  },
  {
   "cell_type": "code",
   "execution_count": 34,
   "metadata": {
    "school_cell_uuid": "6131e648511543cc87a1f4e8094b1fcd"
   },
   "outputs": [
    {
     "data": {
      "text/plain": [
       "array(['a', 'b', 'c'],\n",
       "      dtype='<U1')"
      ]
     },
     "execution_count": 34,
     "metadata": {},
     "output_type": "execute_result"
    }
   ],
   "source": [
    "index"
   ]
  },
  {
   "cell_type": "code",
   "execution_count": 25,
   "metadata": {
    "school_cell_uuid": "22967dfb13a9429683e1fd6aa9d6f403"
   },
   "outputs": [
    {
     "data": {
      "text/plain": [
       "array([2, 2, 1])"
      ]
     },
     "execution_count": 25,
     "metadata": {},
     "output_type": "execute_result"
    }
   ],
   "source": [
    "count"
   ]
  },
  {
   "cell_type": "markdown",
   "metadata": {
    "school_cell_uuid": "18b8cf36ccf841ddbfd0dff59390a821"
   },
   "source": [
    "그러나 `unique` 명령은 데이터에 존재하는 값에 대해서만 갯수를 세므로 데이터 값이 나올 수 있음에도 불구하고 데이터가 하나도 없는 경우에는 정보를 주지 않는다. 예를 들어 주사위를 10번 던졌는데 6이 한 번도 나오지 않으면 이 값을 0으로 세어주지 않는다.\n",
    "\n",
    "따라서 데이터가 주사위를 던졌을 때 나오는 수처럼 특정 범위안의 수인 경우에는 `bincount`에 `minlength` 인수를 설정하여 쓰는 것이 더 편리하다. 이 때는 0 부터 `minlength` - 1 까지의 숫자에 대해 각각 카운트를 한다. 데이터가 없을 경우에는 카운트 값이 0이 된다."
   ]
  },
  {
   "cell_type": "code",
   "execution_count": 35,
   "metadata": {
    "school_cell_uuid": "a8b0e11beab742bfaa0d9a4a6ec97b8c"
   },
   "outputs": [
    {
     "data": {
      "text/plain": [
       "array([0, 2, 3, 1, 0, 0], dtype=int64)"
      ]
     },
     "execution_count": 35,
     "metadata": {},
     "output_type": "execute_result"
    }
   ],
   "source": [
    "np.bincount([1, 1, 2, 2, 2, 3], minlength=6)\n",
    "# 0 - 0개, 1 - 2개, 2 - 3개, 3 - 1개, 4 - 0개, 5 - 0개 라는 의미"
   ]
  }
 ],
 "metadata": {
  "kernelspec": {
   "display_name": "Python 3",
   "language": "python",
   "name": "python3"
  },
  "language_info": {
   "codemirror_mode": {
    "name": "ipython",
    "version": 3
   },
   "file_extension": ".py",
   "mimetype": "text/x-python",
   "name": "python",
   "nbconvert_exporter": "python",
   "pygments_lexer": "ipython3",
   "version": "3.6.3"
  }
 },
 "nbformat": 4,
 "nbformat_minor": 1
}
