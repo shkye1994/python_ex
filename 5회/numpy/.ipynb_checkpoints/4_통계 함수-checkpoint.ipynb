{
 "cells": [
  {
   "cell_type": "markdown",
   "metadata": {
    "school_cell_uuid": "f1e120d9f1574e31aa1b43d5d7530b1e"
   },
   "source": [
    "# 통계 함수"
   ]
  },
  {
   "cell_type": "markdown",
   "metadata": {
    "school_cell_uuid": "e0cf86dc37194b9caee4bb8b1d0c2478"
   },
   "source": [
    "NumPy는 다음과 같은 데이터 집합에 대해 간단한 통계를 계산하는 함수를 제공한다.\n",
    "\n",
    "* 데이터의 개수(count)\n",
    "* 평균(mean, average)\n",
    "* 분산(variance)\n",
    "* 표준 편차(standard deviation)\n",
    "* 최댓값(maximum)\n",
    "* 최솟값(minimum)\n",
    "* 중앙값(median)\n",
    "* 사분위수(quartile)"
   ]
  },
  {
   "cell_type": "markdown",
   "metadata": {
    "school_cell_uuid": "5007a8ec08214ee9b2e5d84dc6628678"
   },
   "source": [
    "예를 들어 다음과 같은 데이터 $x$가 있다고 하자.\n",
    "\n",
    "$$\n",
    "x = \\{\n",
    "18,   5,  10,  23,  19,  -8,  10,   0,   0,   5,   2,  15,   8,\n",
    "2,   5,   4,  15,  -1,   4,  -7, -24,   7,   9,  -6,  23, -13\n",
    "\\}\n",
    "$$\n",
    "             \n",
    "\n",
    "$x$를 이루는 숫자 하나하나를 수학 기호로는 $x_1, x_2, \\cdots, x_N$처럼 표시한다. 위 예에서 $x_1 = 18$, $x_2 = 5$이다.\n",
    "\n",
    "NumPy에서는 이러한 데이터를 1차원 배열로 구현한다."
   ]
  },
  {
   "cell_type": "code",
   "execution_count": 1,
   "metadata": {
    "collapsed": true
   },
   "outputs": [],
   "source": [
    "import numpy as np"
   ]
  },
  {
   "cell_type": "code",
   "execution_count": 2,
   "metadata": {
    "collapsed": true,
    "school_cell_uuid": "46bb43f2d2924332ab0f3f09c460c32f"
   },
   "outputs": [],
   "source": [
    "x = np.array([ 18,   5,  10,  23,  19,  -8,  10,   0,   0,   5,   2,  15,   8,\n",
    "                2,   5,   4,  15,  -1,   4,  -7, -24,   7,   9,  -6,  23, -13])"
   ]
  },
  {
   "cell_type": "markdown",
   "metadata": {
    "school_cell_uuid": "584cc6f1767f42049e5c45354c6349c4"
   },
   "source": [
    "### 데이터의 개수"
   ]
  },
  {
   "cell_type": "markdown",
   "metadata": {
    "school_cell_uuid": "3afcea2fe96f4df4a325ae8cf0962dff"
   },
   "source": [
    "데이터의 개수는 `len` 명령으로 구할 수 있다."
   ]
  },
  {
   "cell_type": "code",
   "execution_count": 3,
   "metadata": {
    "school_cell_uuid": "6e12faa9857c455aa84f2cea6b58a036"
   },
   "outputs": [
    {
     "data": {
      "text/plain": [
       "26"
      ]
     },
     "execution_count": 3,
     "metadata": {},
     "output_type": "execute_result"
    }
   ],
   "source": [
    "len(x)  # 갯수"
   ]
  },
  {
   "cell_type": "markdown",
   "metadata": {
    "school_cell_uuid": "bafea7976594466d8a34b0623bf48a88"
   },
   "source": [
    "### 샘플 평균"
   ]
  },
  {
   "cell_type": "markdown",
   "metadata": {
    "school_cell_uuid": "2e4d88614dc24a7a8262f665077ae369"
   },
   "source": [
    "평균을 통계용어로는 샘플 평균(sample average, sample mean)이라고 한다. $x$ 데이터에 대한 샘플 평균은 $\\bar{x}$라고 표시하며 다음과 같이 계산한다. 이 식에서 $N$은 데이터의 개수이다.\n",
    "\n",
    "$$ \\bar{x} = \\dfrac{1}{N}\\sum_{i=1}^N x_i $$"
   ]
  },
  {
   "cell_type": "code",
   "execution_count": 4,
   "metadata": {
    "school_cell_uuid": "b34bb1912f7c476f82c3e0fd3d6ae5b0"
   },
   "outputs": [
    {
     "data": {
      "text/plain": [
       "4.8076923076923075"
      ]
     },
     "execution_count": 4,
     "metadata": {},
     "output_type": "execute_result"
    }
   ],
   "source": [
    "np.mean(x) # 평균"
   ]
  },
  {
   "cell_type": "markdown",
   "metadata": {
    "school_cell_uuid": "4db8c547c72c40d18053e301146628a4"
   },
   "source": [
    "### 샘플 분산"
   ]
  },
  {
   "cell_type": "markdown",
   "metadata": {
    "school_cell_uuid": "2e4d88614dc24a7a8262f665077ae369"
   },
   "source": [
    "샘플 분산(sample variance)은 데이터와 샘플 평균간의 거리의 제곱의 평균이다. 샘플 분산이 작으면 데이터가 모여있는 것이고 크면 흩어져 있는 것이다. 수학 기호로는 $s^2$이라고 표시하며 다음과 같이 계산한다.\n",
    "\n",
    "$$ s^2 = \\dfrac{1}{N}\\sum_{i=1}^N (x_i - \\bar{x})^2 $$"
   ]
  },
  {
   "cell_type": "code",
   "execution_count": 5,
   "metadata": {
    "school_cell_uuid": "1ffac705a908414da102ec73b6f8350d"
   },
   "outputs": [
    {
     "data": {
      "text/plain": [
       "115.23224852071006"
      ]
     },
     "execution_count": 5,
     "metadata": {},
     "output_type": "execute_result"
    }
   ],
   "source": [
    "np.var(x) # 분산"
   ]
  },
  {
   "cell_type": "markdown",
   "metadata": {
    "school_cell_uuid": "4bbc3f5d73024b729375127f82265a17"
   },
   "source": [
    "### 샘플 표준편차"
   ]
  },
  {
   "cell_type": "markdown",
   "metadata": {
    "school_cell_uuid": "2e4d88614dc24a7a8262f665077ae369"
   },
   "source": [
    "샘플 표준편차(sample standard variance)는 샘플 분산의 제곱근 값이다. $s$이라고 표시하며 \n",
    "\n",
    "$$ s = \\sqrt{s^2} $$"
   ]
  },
  {
   "cell_type": "code",
   "execution_count": 6,
   "metadata": {
    "school_cell_uuid": "34435c8883fc4edabe7355a6b57b9643"
   },
   "outputs": [
    {
     "data": {
      "text/plain": [
       "10.734628476137871"
      ]
     },
     "execution_count": 6,
     "metadata": {},
     "output_type": "execute_result"
    }
   ],
   "source": [
    "np.std(x)  # 표준 편차"
   ]
  },
  {
   "cell_type": "markdown",
   "metadata": {
    "school_cell_uuid": "05547e99bba14b17987949e87e01810f"
   },
   "source": [
    "### 최대값과 최소값"
   ]
  },
  {
   "cell_type": "markdown",
   "metadata": {
    "school_cell_uuid": "2e4d88614dc24a7a8262f665077ae369"
   },
   "source": [
    "최대값(maximum)은 데이터 중에서 가장 큰 값을, 최소값(minimum)은 가장 작은 값을 의미한다."
   ]
  },
  {
   "cell_type": "code",
   "execution_count": 7,
   "metadata": {
    "school_cell_uuid": "04c24da8c29441bb9815be7eec10f647"
   },
   "outputs": [
    {
     "data": {
      "text/plain": [
       "23"
      ]
     },
     "execution_count": 7,
     "metadata": {},
     "output_type": "execute_result"
    }
   ],
   "source": [
    "np.max(x)  # 최댓값"
   ]
  },
  {
   "cell_type": "code",
   "execution_count": 8,
   "metadata": {
    "school_cell_uuid": "c92a5db3daca4040a149ab4d286b1ff5"
   },
   "outputs": [
    {
     "data": {
      "text/plain": [
       "-24"
      ]
     },
     "execution_count": 8,
     "metadata": {},
     "output_type": "execute_result"
    }
   ],
   "source": [
    "np.min(x)  # 최솟값"
   ]
  },
  {
   "cell_type": "markdown",
   "metadata": {
    "school_cell_uuid": "7f70258fd789484a9579bd76794b16a9"
   },
   "source": [
    "### 중앙값"
   ]
  },
  {
   "cell_type": "markdown",
   "metadata": {
    "school_cell_uuid": "2e4d88614dc24a7a8262f665077ae369"
   },
   "source": [
    "중앙값(median)은 데이터를 크기대로 정렬하였을 때 가장 가운데에 있는 수를 말한다. 만약 데이터의 수가 짝수이면 보통 중앙의 두 수의 평균을 사용한다."
   ]
  },
  {
   "cell_type": "code",
   "execution_count": 9,
   "metadata": {
    "school_cell_uuid": "e1fa96e6ed7442bc9583e47fd911f3e4"
   },
   "outputs": [
    {
     "data": {
      "text/plain": [
       "5.0"
      ]
     },
     "execution_count": 9,
     "metadata": {},
     "output_type": "execute_result"
    }
   ],
   "source": [
    "np.median(x)  # 중앙값"
   ]
  },
  {
   "cell_type": "markdown",
   "metadata": {
    "school_cell_uuid": "58a28972d7384333b0319b43f1735892"
   },
   "source": [
    "### 사분위수"
   ]
  },
  {
   "cell_type": "markdown",
   "metadata": {
    "school_cell_uuid": "ce4db8b11cb54285b112ccc8bd6124d8"
   },
   "source": [
    "사분위수(quartile)는 데이터를 크기대로 정렬하였을 때 1/4, 2/4, 3/4 위치에 있는 수를 말한다. 각각 1사분위수, 2사분위수, 3사분위수라고 한다. 1/4의 위치란 전체 데이터의 수가 만약 100개이면 25번째 순서, 즉 하위 25%를 말한다. 따라서 2사분위수는 중앙값과 같다. \n",
    "\n",
    "때로는 위치를 1/100 단위로 나눈 백분위수(percentile)을 사용하기도 한다. 1사분위수는 25% 백분위수와 같다."
   ]
  },
  {
   "cell_type": "code",
   "execution_count": 10,
   "metadata": {
    "school_cell_uuid": "64bb2071eff44538b8ec961b89ae7e18"
   },
   "outputs": [
    {
     "data": {
      "text/plain": [
       "0.0"
      ]
     },
     "execution_count": 10,
     "metadata": {},
     "output_type": "execute_result"
    }
   ],
   "source": [
    "np.percentile(x, 25)  # 1사분위 수"
   ]
  },
  {
   "cell_type": "code",
   "execution_count": 11,
   "metadata": {
    "school_cell_uuid": "cda69de008b44a9e9fdbd366173c1a7c"
   },
   "outputs": [
    {
     "data": {
      "text/plain": [
       "5.0"
      ]
     },
     "execution_count": 11,
     "metadata": {},
     "output_type": "execute_result"
    }
   ],
   "source": [
    "np.percentile(x, 50)  # 2사분위 수"
   ]
  },
  {
   "cell_type": "code",
   "execution_count": 12,
   "metadata": {
    "school_cell_uuid": "3a6242f292674da499c6056b35ae0256"
   },
   "outputs": [
    {
     "data": {
      "text/plain": [
       "10.0"
      ]
     },
     "execution_count": 12,
     "metadata": {},
     "output_type": "execute_result"
    }
   ],
   "source": [
    "np.percentile(x, 75)  # 3사분위 수"
   ]
  }
 ],
 "metadata": {
  "kernelspec": {
   "display_name": "Python 3",
   "language": "python",
   "name": "python3"
  },
  "language_info": {
   "codemirror_mode": {
    "name": "ipython",
    "version": 3
   },
   "file_extension": ".py",
   "mimetype": "text/x-python",
   "name": "python",
   "nbconvert_exporter": "python",
   "pygments_lexer": "ipython3",
   "version": "3.6.3"
  }
 },
 "nbformat": 4,
 "nbformat_minor": 2
}
