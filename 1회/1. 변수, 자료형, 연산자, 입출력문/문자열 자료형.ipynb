{
 "cells": [
  {
   "cell_type": "code",
   "execution_count": 4,
   "metadata": {},
   "outputs": [
    {
     "name": "stdout",
     "output_type": "stream",
     "text": [
      "say 'hello' to mom\n"
     ]
    }
   ],
   "source": [
    "a = \"say \\'hello\\' to mom\"\n",
    "print(a)"
   ]
  },
  {
   "cell_type": "code",
   "execution_count": 5,
   "metadata": {},
   "outputs": [
    {
     "name": "stdout",
     "output_type": "stream",
     "text": [
      "Dear Alice,\n",
      "\n",
      "How are you?\n",
      "I am busy to study programming this vacation.\n",
      "\n",
      "Say hello to your parents.\n",
      "\n",
      "Sincerely,\n",
      "Bob\n"
     ]
    }
   ],
   "source": [
    "print('''Dear Alice,\n",
    "\n",
    "How are you?\n",
    "I am busy to study programming this vacation.\n",
    "\n",
    "Say hello to your parents.\n",
    "\n",
    "Sincerely,\n",
    "Bob''')"
   ]
  },
  {
   "cell_type": "code",
   "execution_count": 7,
   "metadata": {
    "collapsed": true
   },
   "outputs": [],
   "source": [
    "greeting = 'hello world'"
   ]
  },
  {
   "cell_type": "code",
   "execution_count": 8,
   "metadata": {},
   "outputs": [
    {
     "data": {
      "text/plain": [
       "'h'"
      ]
     },
     "execution_count": 8,
     "metadata": {},
     "output_type": "execute_result"
    }
   ],
   "source": [
    "greeting[0]"
   ]
  },
  {
   "cell_type": "code",
   "execution_count": 9,
   "metadata": {},
   "outputs": [
    {
     "data": {
      "text/plain": [
       "'d'"
      ]
     },
     "execution_count": 9,
     "metadata": {},
     "output_type": "execute_result"
    }
   ],
   "source": [
    "greeting[-1]"
   ]
  },
  {
   "cell_type": "code",
   "execution_count": 10,
   "metadata": {
    "collapsed": true
   },
   "outputs": [],
   "source": [
    "lang = 'python programming'"
   ]
  },
  {
   "cell_type": "code",
   "execution_count": 12,
   "metadata": {},
   "outputs": [
    {
     "data": {
      "text/plain": [
       "'p'"
      ]
     },
     "execution_count": 12,
     "metadata": {},
     "output_type": "execute_result"
    }
   ],
   "source": [
    "lang[0]"
   ]
  },
  {
   "cell_type": "code",
   "execution_count": 13,
   "metadata": {},
   "outputs": [
    {
     "data": {
      "text/plain": [
       "'agr '"
      ]
     },
     "execution_count": 13,
     "metadata": {},
     "output_type": "execute_result"
    }
   ],
   "source": [
    "lang[12:4:-2]"
   ]
  },
  {
   "cell_type": "code",
   "execution_count": 15,
   "metadata": {},
   "outputs": [
    {
     "data": {
      "text/plain": [
       "'hnpo'"
      ]
     },
     "execution_count": 15,
     "metadata": {},
     "output_type": "execute_result"
    }
   ],
   "source": [
    "lang[3:11:2]"
   ]
  },
  {
   "cell_type": "code",
   "execution_count": 17,
   "metadata": {},
   "outputs": [
    {
     "data": {
      "text/plain": [
       "'rg'"
      ]
     },
     "execution_count": 17,
     "metadata": {},
     "output_type": "execute_result"
    }
   ],
   "source": [
    "lang[-10:-7:2]"
   ]
  },
  {
   "cell_type": "code",
   "execution_count": 18,
   "metadata": {},
   "outputs": [
    {
     "name": "stdout",
     "output_type": "stream",
     "text": [
      "I got 95 in the exam.\n"
     ]
    }
   ],
   "source": [
    "score = 95\n",
    "x = 'I got ' + str(score) + ' in the exam.'\n",
    "print(x)"
   ]
  },
  {
   "cell_type": "code",
   "execution_count": 19,
   "metadata": {},
   "outputs": [
    {
     "data": {
      "text/plain": [
       "21"
      ]
     },
     "execution_count": 19,
     "metadata": {},
     "output_type": "execute_result"
    }
   ],
   "source": [
    "len(x)"
   ]
  },
  {
   "cell_type": "code",
   "execution_count": 20,
   "metadata": {
    "collapsed": true
   },
   "outputs": [],
   "source": [
    "subject = 'programming'"
   ]
  },
  {
   "cell_type": "code",
   "execution_count": 21,
   "metadata": {},
   "outputs": [
    {
     "data": {
      "text/plain": [
       "True"
      ]
     },
     "execution_count": 21,
     "metadata": {},
     "output_type": "execute_result"
    }
   ],
   "source": [
    "'r' in subject"
   ]
  },
  {
   "cell_type": "code",
   "execution_count": 22,
   "metadata": {},
   "outputs": [
    {
     "data": {
      "text/plain": [
       "True"
      ]
     },
     "execution_count": 22,
     "metadata": {},
     "output_type": "execute_result"
    }
   ],
   "source": [
    "'gram' in subject"
   ]
  },
  {
   "cell_type": "code",
   "execution_count": 24,
   "metadata": {},
   "outputs": [
    {
     "data": {
      "text/plain": [
       "False"
      ]
     },
     "execution_count": 24,
     "metadata": {},
     "output_type": "execute_result"
    }
   ],
   "source": [
    "'z' in subject"
   ]
  },
  {
   "cell_type": "code",
   "execution_count": 23,
   "metadata": {},
   "outputs": [
    {
     "data": {
      "text/plain": [
       "True"
      ]
     },
     "execution_count": 23,
     "metadata": {},
     "output_type": "execute_result"
    }
   ],
   "source": [
    "'abcd' not in subject"
   ]
  },
  {
   "cell_type": "code",
   "execution_count": 26,
   "metadata": {},
   "outputs": [
    {
     "data": {
      "text/plain": [
       "'PROGRAMMING'"
      ]
     },
     "execution_count": 26,
     "metadata": {},
     "output_type": "execute_result"
    }
   ],
   "source": [
    "subject.upper()"
   ]
  },
  {
   "cell_type": "code",
   "execution_count": 27,
   "metadata": {},
   "outputs": [
    {
     "data": {
      "text/plain": [
       "True"
      ]
     },
     "execution_count": 27,
     "metadata": {},
     "output_type": "execute_result"
    }
   ],
   "source": [
    "subject.islower()"
   ]
  },
  {
   "cell_type": "code",
   "execution_count": 28,
   "metadata": {},
   "outputs": [
    {
     "data": {
      "text/plain": [
       "'Programming'"
      ]
     },
     "execution_count": 28,
     "metadata": {},
     "output_type": "execute_result"
    }
   ],
   "source": [
    "subject.capitalize()"
   ]
  },
  {
   "cell_type": "code",
   "execution_count": 29,
   "metadata": {},
   "outputs": [
    {
     "data": {
      "text/plain": [
       "'I Got 95 In The Exam.'"
      ]
     },
     "execution_count": 29,
     "metadata": {},
     "output_type": "execute_result"
    }
   ],
   "source": [
    "x.title()"
   ]
  },
  {
   "cell_type": "code",
   "execution_count": 30,
   "metadata": {},
   "outputs": [
    {
     "data": {
      "text/plain": [
       "True"
      ]
     },
     "execution_count": 30,
     "metadata": {},
     "output_type": "execute_result"
    }
   ],
   "source": [
    "x.title().istitle()"
   ]
  },
  {
   "cell_type": "code",
   "execution_count": 33,
   "metadata": {},
   "outputs": [
    {
     "data": {
      "text/plain": [
       "2"
      ]
     },
     "execution_count": 33,
     "metadata": {},
     "output_type": "execute_result"
    }
   ],
   "source": [
    "x.count('e')"
   ]
  },
  {
   "cell_type": "markdown",
   "metadata": {},
   "source": [
    "입출력문\n",
    "========="
   ]
  },
  {
   "cell_type": "code",
   "execution_count": 34,
   "metadata": {
    "collapsed": true
   },
   "outputs": [],
   "source": [
    "# math_score 라는 변수에 77 할당\n",
    "math_score = 77\n",
    "#science_score 라는 변수에 55 할당\n",
    "science_score = 55\n",
    "#english_score 라는 변수에 66 할당\n",
    "english_score = 66"
   ]
  },
  {
   "cell_type": "code",
   "execution_count": 36,
   "metadata": {},
   "outputs": [
    {
     "name": "stdout",
     "output_type": "stream",
     "text": [
      "수학 점수 : 77\n"
     ]
    }
   ],
   "source": [
    "print('수학 점수 :', math_score)"
   ]
  },
  {
   "cell_type": "code",
   "execution_count": 37,
   "metadata": {},
   "outputs": [
    {
     "name": "stdout",
     "output_type": "stream",
     "text": [
      "과학 점수 : 55 \n",
      "영어 점수 : 66\n"
     ]
    }
   ],
   "source": [
    "print('과학 점수 :', science_score, '\\n영어 점수 :', english_score)"
   ]
  },
  {
   "cell_type": "code",
   "execution_count": 38,
   "metadata": {},
   "outputs": [
    {
     "name": "stdout",
     "output_type": "stream",
     "text": [
      "수학점수는 : 77, 과학점수는 55, 영어점수는 66 이다 \n"
     ]
    }
   ],
   "source": [
    "print(\"수학점수는 : {}, 과학점수는 {}, 영어점수는 {} 이다 \"\n",
    "      .format(math_score, science_score, english_score))"
   ]
  },
  {
   "cell_type": "code",
   "execution_count": 39,
   "metadata": {},
   "outputs": [
    {
     "name": "stdout",
     "output_type": "stream",
     "text": [
      "수학점수는 : 77, 과학점수는 55, 영어점수는 66 이다 \n"
     ]
    }
   ],
   "source": [
    "print(\"수학점수는 : {0}, 과학점수는 {1}, 영어점수는 {2} 이다 \"\n",
    "      .format(math_score, science_score, english_score))"
   ]
  },
  {
   "cell_type": "code",
   "execution_count": 40,
   "metadata": {},
   "outputs": [
    {
     "name": "stdout",
     "output_type": "stream",
     "text": [
      "수학점수는 : 66, 과학점수는 66, 영어점수는 66 이다 \n"
     ]
    }
   ],
   "source": [
    "print(\"수학점수는 : {2}, 과학점수는 {2}, 영어점수는 {2} 이다 \"\n",
    "      .format(math_score, science_score, english_score))"
   ]
  },
  {
   "cell_type": "code",
   "execution_count": 41,
   "metadata": {},
   "outputs": [
    {
     "ename": "IndexError",
     "evalue": "tuple index out of range",
     "output_type": "error",
     "traceback": [
      "\u001b[1;31m---------------------------------------------------------------------------\u001b[0m",
      "\u001b[1;31mIndexError\u001b[0m                                Traceback (most recent call last)",
      "\u001b[1;32m<ipython-input-41-dfc99795608a>\u001b[0m in \u001b[0;36m<module>\u001b[1;34m()\u001b[0m\n\u001b[0;32m      1\u001b[0m print(\"수학점수는 : {3}, 과학점수는 {0}, 영어점수는 {0} 이다 \"\n\u001b[1;32m----> 2\u001b[1;33m       .format(math_score, science_score, english_score))\n\u001b[0m",
      "\u001b[1;31mIndexError\u001b[0m: tuple index out of range"
     ]
    }
   ],
   "source": [
    "print(\"수학점수는 : {3}, 과학점수는 {0}, 영어점수는 {0} 이다 \"\n",
    "      .format(math_score, science_score, english_score))"
   ]
  },
  {
   "cell_type": "markdown",
   "metadata": {},
   "source": [
    "입력문 input()\n",
    "=============="
   ]
  },
  {
   "cell_type": "code",
   "execution_count": 46,
   "metadata": {},
   "outputs": [
    {
     "name": "stdout",
     "output_type": "stream",
     "text": [
      "hello\n"
     ]
    },
    {
     "data": {
      "text/plain": [
       "'hello'"
      ]
     },
     "execution_count": 46,
     "metadata": {},
     "output_type": "execute_result"
    }
   ],
   "source": [
    "input()"
   ]
  },
  {
   "cell_type": "code",
   "execution_count": 47,
   "metadata": {},
   "outputs": [
    {
     "name": "stdout",
     "output_type": "stream",
     "text": [
      "계승환\n"
     ]
    }
   ],
   "source": [
    "name = input()"
   ]
  },
  {
   "cell_type": "code",
   "execution_count": 48,
   "metadata": {},
   "outputs": [
    {
     "name": "stdout",
     "output_type": "stream",
     "text": [
      "계승환\n"
     ]
    }
   ],
   "source": [
    "print(name)"
   ]
  },
  {
   "cell_type": "code",
   "execution_count": 49,
   "metadata": {},
   "outputs": [
    {
     "name": "stdout",
     "output_type": "stream",
     "text": [
      "이름을 입력하세요 : 계승환\n"
     ]
    },
    {
     "data": {
      "text/plain": [
       "'계승환'"
      ]
     },
     "execution_count": 49,
     "metadata": {},
     "output_type": "execute_result"
    }
   ],
   "source": [
    "input(\"이름을 입력하세요 : \")"
   ]
  },
  {
   "cell_type": "code",
   "execution_count": 51,
   "metadata": {},
   "outputs": [
    {
     "name": "stdout",
     "output_type": "stream",
     "text": [
      "이름을 입력하세요 : 계승환\n",
      "전화번호를 입력하세요 : 010-5313-4239\n",
      "주소를 입력하세요 : 서울\n",
      "이름 : 계승환\n",
      "전화번호 : 010-5313-4239\n",
      "주소 : 서울\n"
     ]
    }
   ],
   "source": [
    "name = input(\"이름을 입력하세요 : \")\n",
    "phone = input(\"전화번호를 입력하세요 : \")\n",
    "add = input(\"주소를 입력하세요 : \")\n",
    "\n",
    "print(\"이름 : {0}\\n전화번호 : {1}\\n주소 : {2}\" .format(name, phone, add))"
   ]
  },
  {
   "cell_type": "markdown",
   "metadata": {
    "collapsed": true
   },
   "source": [
    "실습\n",
    "==="
   ]
  },
  {
   "cell_type": "code",
   "execution_count": 1,
   "metadata": {},
   "outputs": [
    {
     "name": "stdout",
     "output_type": "stream",
     "text": [
      "국어 성적을 입력하세요 :78\n",
      "수학 성적을 입력하세요 :90\n",
      "영어 성적을 입력하세요 :86\n",
      "\n",
      "입력받은 성적\n",
      "----------------\n",
      "국어 성적 :  78 \n",
      "수학 성적 :  90 \n",
      "영어 성적 :  86 \n",
      "\n",
      "-----------\n",
      "\n",
      "총점 : 254 \n",
      "평균 : 84.66666666666667\n"
     ]
    }
   ],
   "source": [
    "korean = int(input(\"국어 성적을 입력하세요 :\"))\n",
    "math = int(input(\"수학 성적을 입력하세요 :\"))\n",
    "english = int(input(\"영어 성적을 입력하세요 :\"))\n",
    "print()\n",
    "print(\"입력받은 성적\\n----------------\\n국어 성적 : \", korean, \"\\n수학 성적 : \", math, \"\\n영어 성적 : \", english, \"\\n\\n-----------\\n\\n총점 :\", korean+math+english, \"\\n평균 :\", (korean+math+english)/3)"
   ]
  },
  {
   "cell_type": "code",
   "execution_count": 2,
   "metadata": {},
   "outputs": [
    {
     "name": "stdout",
     "output_type": "stream",
     "text": [
      "국어 성적을 입력하세요 :78\n",
      "수학 성적을 입력하세요 :90\n",
      "영어 성적을 입력하세요 :86\n",
      "\n",
      "입력받은 성적\n",
      "--------------- \n",
      "\n",
      "국어 성적 : 78\n",
      "수학 성적 : 90\n",
      "영어 성적 : 86\n",
      "\n",
      "--------------- \n",
      "\n",
      "총점 : 254\n",
      "평균 : 84.67\n"
     ]
    }
   ],
   "source": [
    "# 점수 입력\n",
    "korean = int(input(\"국어 성적을 입력하세요 :\"))\n",
    "math = int(input(\"수학 성적을 입력하세요 :\"))\n",
    "english = int(input(\"영어 성적을 입력하세요 :\"))\n",
    "\n",
    "# 요약값\n",
    "total = korean+math+english\n",
    "mean = total/3\n",
    "\n",
    "# 출력\n",
    "print()\n",
    "print(\"입력받은 성적\")\n",
    "print(\"-\"*15, \"\\n\")\n",
    "print(\"국어 성적 : {0}\\n수학 성적 : {1}\\n영어 성적 : {2}\"\n",
    "      .format(korean, math, english))\n",
    "print(\"\")\n",
    "print(\"-\"*15, \"\\n\")\n",
    "print(\"총점 :\", total)\n",
    "print(\"평균 :\", format(mean, '0.2f'))  "
   ]
  },
  {
   "cell_type": "code",
   "execution_count": 3,
   "metadata": {},
   "outputs": [
    {
     "name": "stdout",
     "output_type": "stream",
     "text": [
      "반지름을 입력하시오 : 5\n",
      "반지름 : 5\n",
      "원의 넓이 : 78.540\n",
      "원의 둘레 : 31.416\n"
     ]
    }
   ],
   "source": [
    "반지름 = int(input(\"반지름을 입력하시오 : \"))\n",
    "pi = 3.141592\n",
    "print(\"반지름 :\", 반지름)\n",
    "print(\"원의 넓이 :\", format((pi*반지름**2), '0.3f'))\n",
    "print(\"원의 둘레 :\", format((2*pi*반지름), '0.3f'))"
   ]
  },
  {
   "cell_type": "code",
   "execution_count": 5,
   "metadata": {},
   "outputs": [
    {
     "name": "stdout",
     "output_type": "stream",
     "text": [
      "다섯 자리 숫자를 입력하시오 : 58924\n",
      "\n",
      "5 , 8 , 9 , 2 , 4\n",
      "\n",
      "끝내려면 엔터를 누르세요\n",
      "\n"
     ]
    },
    {
     "data": {
      "text/plain": [
       "''"
      ]
     },
     "execution_count": 5,
     "metadata": {},
     "output_type": "execute_result"
    }
   ],
   "source": [
    "x = input(\"다섯 자리 숫자를 입력하시오 : \")\n",
    "print(\"\\n{} , {} , {} , {} , {}\" \n",
    "      .format(x[0],x[1],x[2],x[3],x[4]))\n",
    "print(\"\\n끝내려면 엔터를 누르세요\")\n",
    "input()"
   ]
  },
  {
   "cell_type": "code",
   "execution_count": 9,
   "metadata": {},
   "outputs": [
    {
     "name": "stdout",
     "output_type": "stream",
     "text": [
      "다섯 자리 숫자를 입력하시오 :58924\n",
      "\n",
      "5 , 8 , 9 , 2 , 4\n",
      "\n",
      "끝내려면 엔터를 누르세요.\n"
     ]
    },
    {
     "data": {
      "text/plain": [
       "''"
      ]
     },
     "execution_count": 9,
     "metadata": {},
     "output_type": "execute_result"
    }
   ],
   "source": [
    "x = int(input(\"다섯 자리 숫자를 입력하시오 :\"))\n",
    "a = int(x // 1e4)\n",
    "b = int((x % 1e4) // 1e3)\n",
    "c = int((x % 1e3) // 1e2)\n",
    "d = int((x % 1e2) // 1e1)\n",
    "e = int(x % 1e1)\n",
    "print()\n",
    "print(\"{} , {} , {} , {} , {}\"\n",
    "     .format(a,b,c,d,e))\n",
    "print()\n",
    "input(\"끝내려면 엔터를 누르세요.\")"
   ]
  }
 ],
 "metadata": {
  "kernelspec": {
   "display_name": "Python 3",
   "language": "python",
   "name": "python3"
  },
  "language_info": {
   "codemirror_mode": {
    "name": "ipython",
    "version": 3
   },
   "file_extension": ".py",
   "mimetype": "text/x-python",
   "name": "python",
   "nbconvert_exporter": "python",
   "pygments_lexer": "ipython3",
   "version": "3.6.3"
  }
 },
 "nbformat": 4,
 "nbformat_minor": 2
}
