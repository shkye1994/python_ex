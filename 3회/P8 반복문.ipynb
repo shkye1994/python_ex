{
 "cells": [
  {
   "cell_type": "markdown",
   "metadata": {},
   "source": [
    "P8 반복문\n",
    "============="
   ]
  },
  {
   "cell_type": "markdown",
   "metadata": {},
   "source": [
    "2. While 문\n",
    "--------"
   ]
  },
  {
   "cell_type": "code",
   "execution_count": 1,
   "metadata": {},
   "outputs": [
    {
     "name": "stdout",
     "output_type": "stream",
     "text": [
      "1\n",
      "2\n",
      "3\n",
      "4\n",
      "5\n"
     ]
    }
   ],
   "source": [
    "a = 1\n",
    "while a <= 5 :\n",
    "    print(a)\n",
    "    a += 1"
   ]
  },
  {
   "cell_type": "code",
   "execution_count": 3,
   "metadata": {},
   "outputs": [
    {
     "name": "stdout",
     "output_type": "stream",
     "text": [
      "55\n"
     ]
    }
   ],
   "source": [
    "a = 1\n",
    "sum_sum = 0\n",
    "while a <= 10 :\n",
    "    sum_sum += a\n",
    "    a += 1\n",
    "print(sum_sum)"
   ]
  },
  {
   "cell_type": "markdown",
   "metadata": {},
   "source": [
    "# * 문제"
   ]
  },
  {
   "cell_type": "markdown",
   "metadata": {},
   "source": [
    "#### 10부터 88888까지 합을 구하시오"
   ]
  },
  {
   "cell_type": "code",
   "execution_count": 4,
   "metadata": {},
   "outputs": [
    {
     "name": "stdout",
     "output_type": "stream",
     "text": [
      "3950582671\n"
     ]
    }
   ],
   "source": [
    "a = 10\n",
    "sum = 0\n",
    "while a <= 88888 :\n",
    "    sum += a\n",
    "    a += 1\n",
    "print(sum)"
   ]
  },
  {
   "cell_type": "code",
   "execution_count": 11,
   "metadata": {},
   "outputs": [
    {
     "name": "stdout",
     "output_type": "stream",
     "text": [
      "번호를 입력하세요. (종료 시 1번 입력)0\n",
      "프로그램 실행 중\n",
      "번호를 입력하세요. (종료 시 1번 입력)1\n",
      "프로그램 실행 중\n",
      "1번 입력하셨습니다. 프로그램 종료합니다.\n"
     ]
    }
   ],
   "source": [
    "while True:\n",
    "    num = int(input(\"번호를 입력하세요. (종료 시 1번 입력)\"))\n",
    "    print(\"프로그램 실행 중\")\n",
    "    \n",
    "    if num == 1 :\n",
    "        print(\"1번 입력하셨습니다. 프로그램 종료합니다.\")\n",
    "        break"
   ]
  },
  {
   "cell_type": "code",
   "execution_count": 14,
   "metadata": {},
   "outputs": [
    {
     "name": "stdout",
     "output_type": "stream",
     "text": [
      "아이디 : 계승환\n",
      "비밀번호 : 1111\n",
      "아이디/비밀번호를 확인해주세요.\n",
      "아이디 : 계승환\n",
      "비밀번호 : 1234\n",
      "로그인 성공!\n"
     ]
    }
   ],
   "source": [
    "while True :\n",
    "    id_id = input(\"아이디 : \")\n",
    "    password = input(\"비밀번호 : \")\n",
    "    \n",
    "    if (id_id == \"계승환\") and (password == \"1234\") : \n",
    "        print(\"로그인 성공!\")\n",
    "        break\n",
    "    else :\n",
    "        print(\"아이디/비밀번호를 확인해주세요.\")"
   ]
  },
  {
   "cell_type": "code",
   "execution_count": 16,
   "metadata": {},
   "outputs": [
    {
     "name": "stdout",
     "output_type": "stream",
     "text": [
      "아이디 : 계승환\n",
      "비밀번호 : 1111\n",
      "아이디/비밀번호를 확인해주세요.\n",
      "아이디 : 계승환\n",
      "비밀번호 : 1234\n",
      "로그인 성공!\n",
      "아이디 : 종료\n",
      "비밀번호 : 종료\n"
     ]
    }
   ],
   "source": [
    "while True :\n",
    "    id_id = input(\"아이디 : \")\n",
    "    password = input(\"비밀번호 : \")\n",
    "    \n",
    "    if (id_id == \"계승환\") and (password == \"1234\") : \n",
    "        print(\"로그인 성공!\")\n",
    "        continue\n",
    "    elif id_id == \"종료\" :\n",
    "        break\n",
    "    else :\n",
    "        print(\"아이디/비밀번호를 확인해주세요.\")"
   ]
  },
  {
   "cell_type": "markdown",
   "metadata": {},
   "source": [
    "### 문제"
   ]
  },
  {
   "cell_type": "markdown",
   "metadata": {},
   "source": [
    "#### 구구단을 출력하시오"
   ]
  },
  {
   "cell_type": "code",
   "execution_count": 19,
   "metadata": {},
   "outputs": [
    {
     "name": "stdout",
     "output_type": "stream",
     "text": [
      "'단'을 입력하세요. : 3\n",
      "3 * 1 = 3\n",
      "3 * 2 = 6\n",
      "3 * 3 = 9\n",
      "3 * 4 = 12\n",
      "3 * 5 = 15\n",
      "3 * 6 = 18\n",
      "3 * 7 = 21\n",
      "3 * 8 = 24\n",
      "3 * 9 = 27\n"
     ]
    }
   ],
   "source": [
    "n= 1\n",
    "dan = int(input(\"'단'을 입력하세요. : \"))\n",
    "while n <= 9:\n",
    "    print(\"{0} * {1} = {2}\" .format(dan, n, dan*n))\n",
    "    n += 1"
   ]
  },
  {
   "cell_type": "code",
   "execution_count": 31,
   "metadata": {},
   "outputs": [
    {
     "name": "stdout",
     "output_type": "stream",
     "text": [
      "   2    4    6    8   10   12   14   16   18 \n",
      "   3    6    9   12   15   18   21   24   27 \n",
      "   4    8   12   16   20   24   28   32   36 \n",
      "   5   10   15   20   25   30   35   40   45 \n",
      "   6   12   18   24   30   36   42   48   54 \n",
      "   7   14   21   28   35   42   49   56   63 \n",
      "   8   16   24   32   40   48   56   64   72 \n",
      "   9   18   27   36   45   54   63   72   81 \n"
     ]
    }
   ],
   "source": [
    "dan = 2\n",
    "while dan <= 9 :\n",
    "    n = 1\n",
    "    while n <= 9 :\n",
    "        print(\"{0:4d}\" .format(dan*n), end=\" \")\n",
    "        n += 1\n",
    "    dan += 1\n",
    "    print()"
   ]
  },
  {
   "cell_type": "markdown",
   "metadata": {},
   "source": [
    "실습\n",
    "==="
   ]
  },
  {
   "cell_type": "code",
   "execution_count": 24,
   "metadata": {},
   "outputs": [
    {
     "name": "stdout",
     "output_type": "stream",
     "text": [
      "근무 시간을 입력하시오 : 15\n",
      "시간당 수당을 입력하시오 : 50000\n",
      "\n",
      "총 급여는 795000 원 입니다.\n"
     ]
    }
   ],
   "source": [
    "time = int(input(\"근무 시간을 입력하시오 : \"))\n",
    "per = int(input(\"시간당 수당을 입력하시오 : \"))\n",
    "print()\n",
    "if time > 12 :\n",
    "    total = int(12*per + (time-12)*per*1.3)\n",
    "else :\n",
    "    total = int(time*per)\n",
    "print(\"총 급여는 {} 원 입니다.\" .format(total))"
   ]
  },
  {
   "cell_type": "code",
   "execution_count": 2,
   "metadata": {},
   "outputs": [
    {
     "name": "stdout",
     "output_type": "stream",
     "text": [
      "정수를 입력하시오 : 100\n",
      "\n",
      "1\n",
      "2\n",
      "4\n",
      "5\n",
      "10\n",
      "20\n",
      "25\n",
      "50\n",
      "100\n",
      "\n",
      "100 의 약수의 개수 : 9\n"
     ]
    }
   ],
   "source": [
    "number = int(input(\"정수를 입력하시오 : \"))\n",
    "print()\n",
    "\n",
    "n = 1\n",
    "x = 0\n",
    "while n <= number :\n",
    "    if number % n == 0 :\n",
    "        print(n)\n",
    "        x += 1\n",
    "    n += 1\n",
    "print(\"\\n{0} 의 약수의 개수 : {1}\" .format(number, x))"
   ]
  },
  {
   "cell_type": "code",
   "execution_count": 3,
   "metadata": {},
   "outputs": [
    {
     "name": "stdout",
     "output_type": "stream",
     "text": [
      "정수를 입력하시오 : 4\n",
      "정수를 입력하시오 : 20\n",
      "정수를 입력하시오 : 15\n",
      "정수를 입력하시오 : 2\n",
      "정수를 입력하시오 : 8\n",
      "\n",
      "가장 큰 값 : 20\n"
     ]
    }
   ],
   "source": [
    "a = int(input(\"정수를 입력하시오 : \"))\n",
    "b = int(input(\"정수를 입력하시오 : \"))\n",
    "c = int(input(\"정수를 입력하시오 : \"))\n",
    "d = int(input(\"정수를 입력하시오 : \"))\n",
    "e = int(input(\"정수를 입력하시오 : \"))\n",
    "print()\n",
    "print(\"가장 큰 값 : {}\".format(max(a,b,c,d,e)))"
   ]
  },
  {
   "cell_type": "code",
   "execution_count": 3,
   "metadata": {},
   "outputs": [
    {
     "name": "stdout",
     "output_type": "stream",
     "text": [
      "정수를 입력하시오 : 4\n",
      "정수를 입력하시오 : 20\n",
      "정수를 입력하시오 : 15\n",
      "정수를 입력하시오 : 2\n",
      "정수를 입력하시오 : 8\n",
      "\n",
      "가장 큰 값 : 20\n"
     ]
    }
   ],
   "source": [
    "x = int(input(\"정수를 입력하시오 : \"))\n",
    "maxnum = x\n",
    "count = 2\n",
    "while count <= 5 :\n",
    "    x = int(input(\"정수를 입력하시오 : \"))\n",
    "    if maxnum < x :\n",
    "        maxnum = x\n",
    "    count += 1\n",
    "print(\"\\n가장 큰 값 : {}\" .format(maxnum))"
   ]
  }
 ],
 "metadata": {
  "kernelspec": {
   "display_name": "Python 3",
   "language": "python",
   "name": "python3"
  },
  "language_info": {
   "codemirror_mode": {
    "name": "ipython",
    "version": 3
   },
   "file_extension": ".py",
   "mimetype": "text/x-python",
   "name": "python",
   "nbconvert_exporter": "python",
   "pygments_lexer": "ipython3",
   "version": "3.6.3"
  }
 },
 "nbformat": 4,
 "nbformat_minor": 2
}
