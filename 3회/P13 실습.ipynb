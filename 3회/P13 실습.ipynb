{
 "cells": [
  {
   "cell_type": "markdown",
   "metadata": {},
   "source": [
    "문제 1\n",
    "-----"
   ]
  },
  {
   "cell_type": "code",
   "execution_count": 2,
   "metadata": {},
   "outputs": [
    {
     "name": "stdout",
     "output_type": "stream",
     "text": [
      "0 1 2 3 4 5 6 7 8 9 \n",
      "0 5 10 15 20 25 30 35 40 45 \n",
      "10 9 8 7 6 5 4 3 2 1 "
     ]
    }
   ],
   "source": [
    "for i in range(10) : print(i, end=' ')\n",
    "print()\n",
    "for i in range(0,50,5) : print(i, end=' ')\n",
    "print()\n",
    "for i in range(10,0,-1) : print(i, end=' ')"
   ]
  },
  {
   "cell_type": "markdown",
   "metadata": {},
   "source": [
    "문제 2\n",
    "------"
   ]
  },
  {
   "cell_type": "code",
   "execution_count": 26,
   "metadata": {},
   "outputs": [
    {
     "name": "stdout",
     "output_type": "stream",
     "text": [
      "성적을 입력하시오 : 90\n",
      "성적을 입력하시오 : 88\n",
      "성적을 입력하시오 : 75\n",
      "성적을 입력하시오 : 93\n",
      "성적을 입력하시오 : 80\n",
      "\n",
      "입력한 성적들 :  [90, 88, 75, 93, 80]\n",
      "최고 성적 :  93\n",
      "최저 성적 :  75\n",
      "평균 : 85.20\n"
     ]
    }
   ],
   "source": [
    "list=[]\n",
    "for _ in range(5):\n",
    "    x = int(input(\"성적을 입력하시오 : \"))\n",
    "    list.append(x)\n",
    "print()\n",
    "print(\"입력한 성적들 : \", list)\n",
    "print(\"최고 성적 : \", max(list))\n",
    "print(\"최저 성적 : \", min(list))\n",
    "print(\"평균 : {0:0.2f}\".format(sum(list)/len(list)))"
   ]
  },
  {
   "cell_type": "markdown",
   "metadata": {},
   "source": [
    "문제 3\n",
    "-----"
   ]
  },
  {
   "cell_type": "code",
   "execution_count": 15,
   "metadata": {},
   "outputs": [
    {
     "name": "stdout",
     "output_type": "stream",
     "text": [
      "1 번 : 85.33333333333333\n",
      "2 번 : 83.66666666666667\n",
      "3 번 : 87.33333333333333\n",
      "4 번 : 68.0\n",
      "5 번 : 95.0\n"
     ]
    }
   ],
   "source": [
    "score = {'k':[80,78,85,70,90], 'e':[90,88,85,69,95], 'm':[86,85,92,65,100]}\n",
    "\n",
    "for i in range(0,5) :\n",
    "    print(\"{0} 번 : {1}\" .format(i+1, (score['k'][i] + score['e'][i] + score['m'][i])/3))"
   ]
  },
  {
   "cell_type": "code",
   "execution_count": 22,
   "metadata": {},
   "outputs": [
    {
     "name": "stdout",
     "output_type": "stream",
     "text": [
      "1 번 : 85.33333333333333\n",
      "2 번 : 83.66666666666667\n",
      "3 번 : 87.33333333333333\n",
      "4 번 : 68.0\n",
      "5 번 : 95.0\n"
     ]
    }
   ],
   "source": [
    "score = {1:[80,90,86], 2:[78,88,85], 3:[85,85,92], 4:[70,69,65], 5:[90,95,100]}\n",
    "for k, v in score.items() :\n",
    "    print(\"{0} 번 : {1}\" .format(k, sum(v)/len(v)))"
   ]
  }
 ],
 "metadata": {
  "kernelspec": {
   "display_name": "Python 3",
   "language": "python",
   "name": "python3"
  },
  "language_info": {
   "codemirror_mode": {
    "name": "ipython",
    "version": 3
   },
   "file_extension": ".py",
   "mimetype": "text/x-python",
   "name": "python",
   "nbconvert_exporter": "python",
   "pygments_lexer": "ipython3",
   "version": "3.6.3"
  }
 },
 "nbformat": 4,
 "nbformat_minor": 2
}
